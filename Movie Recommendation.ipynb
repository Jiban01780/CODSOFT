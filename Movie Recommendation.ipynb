{
  "nbformat": 4,
  "nbformat_minor": 0,
  "metadata": {
    "colab": {
      "provenance": []
    },
    "kernelspec": {
      "name": "python3",
      "display_name": "Python 3"
    },
    "language_info": {
      "name": "python"
    }
  },
  "cells": [
    {
      "cell_type": "code",
      "source": [
        "pip install pandas scikit-learn"
      ],
      "metadata": {
        "id": "b5CY5Ij_1n6D",
        "colab": {
          "base_uri": "https://localhost:8080/"
        },
        "outputId": "bcad5cf8-2f6d-4148-ea54-a66e014cdf35"
      },
      "execution_count": 16,
      "outputs": [
        {
          "output_type": "stream",
          "name": "stdout",
          "text": [
            "Requirement already satisfied: pandas in /usr/local/lib/python3.11/dist-packages (2.2.2)\n",
            "Requirement already satisfied: scikit-learn in /usr/local/lib/python3.11/dist-packages (1.6.1)\n",
            "Requirement already satisfied: numpy>=1.23.2 in /usr/local/lib/python3.11/dist-packages (from pandas) (2.0.2)\n",
            "Requirement already satisfied: python-dateutil>=2.8.2 in /usr/local/lib/python3.11/dist-packages (from pandas) (2.9.0.post0)\n",
            "Requirement already satisfied: pytz>=2020.1 in /usr/local/lib/python3.11/dist-packages (from pandas) (2025.2)\n",
            "Requirement already satisfied: tzdata>=2022.7 in /usr/local/lib/python3.11/dist-packages (from pandas) (2025.2)\n",
            "Requirement already satisfied: scipy>=1.6.0 in /usr/local/lib/python3.11/dist-packages (from scikit-learn) (1.15.3)\n",
            "Requirement already satisfied: joblib>=1.2.0 in /usr/local/lib/python3.11/dist-packages (from scikit-learn) (1.5.1)\n",
            "Requirement already satisfied: threadpoolctl>=3.1.0 in /usr/local/lib/python3.11/dist-packages (from scikit-learn) (3.6.0)\n",
            "Requirement already satisfied: six>=1.5 in /usr/local/lib/python3.11/dist-packages (from python-dateutil>=2.8.2->pandas) (1.17.0)\n"
          ]
        }
      ]
    },
    {
      "cell_type": "code",
      "source": [
        "import pandas as pd\n",
        "from sklearn.feature_extraction.text import TfidfVectorizer\n",
        "from sklearn.metrics.pairwise import cosine_similarity"
      ],
      "metadata": {
        "id": "o0EmTHdR0_Lx"
      },
      "execution_count": 17,
      "outputs": []
    },
    {
      "cell_type": "code",
      "source": [
        "# Sample movie dataset\n",
        "movies = pd.DataFrame({\n",
        "    'title': [\"Inception\", \"Interstellar\", \"The Dark Knight\", \"Tenet\", \"Memento\"],\n",
        "    'genre': [\"Sci-Fi Thriller\", \"Sci-Fi Drama\", \"Action Crime\", \"Sci-Fi Mystery\", \"Mystery Thriller\"]\n",
        "})"
      ],
      "metadata": {
        "id": "McV03phQ1Csh"
      },
      "execution_count": 18,
      "outputs": []
    },
    {
      "cell_type": "code",
      "source": [
        "# TF-IDF Vectorizer to convert genre text to feature vectors\n",
        "vectorizer = TfidfVectorizer()\n",
        "tfidf_matrix = vectorizer.fit_transform(movies['genre'])"
      ],
      "metadata": {
        "id": "vP_qWAyb1Ccl"
      },
      "execution_count": 19,
      "outputs": []
    },
    {
      "cell_type": "code",
      "source": [
        "# Compute cosine similarity between all movies\n",
        "cosine_sim = cosine_similarity(tfidf_matrix)"
      ],
      "metadata": {
        "id": "8BQYYvrI1K60"
      },
      "execution_count": 20,
      "outputs": []
    },
    {
      "cell_type": "code",
      "source": [
        "# Function to get recommendations\n",
        "def recommend_movie(movie_title):\n",
        "    # Get index of the movie\n",
        "    if movie_title not in movies['title'].values:\n",
        "        return \"Movie not found.\"\n",
        "\n",
        "    idx = movies[movies['title'] == movie_title].index[0]\n",
        "\n",
        "    # Get similarity scores\n",
        "    sim_scores=list(enumerate(cosine_sim[idx]))\n",
        "\n",
        "    # Sort by similarity score (descending), exclude the selected movie\n",
        "    sim_scores=sorted(sim_scores, key=lambda x: x[1], reverse=True)[1:4]\n",
        "\n",
        "    # Get recommended movie titles\n",
        "    recommended=[movies.iloc[i[0]]['title'] for i in sim_scores]\n",
        "    return recommended"
      ],
      "metadata": {
        "id": "6eYZ1dhe1KtE"
      },
      "execution_count": 21,
      "outputs": []
    },
    {
      "cell_type": "code",
      "source": [
        "# Example: Get recommendations for \"Inception\"\n",
        "movie_to_search=\"Inception\"\n",
        "print(f\"\\nMovies similar to '{movie_to_search}':\")\n",
        "for rec in recommend_movie(movie_to_search):\n",
        "    print(\"👉\", rec)"
      ],
      "metadata": {
        "id": "vB2njUZy1VCe",
        "colab": {
          "base_uri": "https://localhost:8080/"
        },
        "outputId": "8c73cb15-38a6-4940-a2df-1bb26e443e49"
      },
      "execution_count": 22,
      "outputs": [
        {
          "output_type": "stream",
          "name": "stdout",
          "text": [
            "\n",
            "Movies similar to 'Inception':\n",
            "👉 Tenet\n",
            "👉 Interstellar\n",
            "👉 Memento\n"
          ]
        }
      ]
    }
  ]
}